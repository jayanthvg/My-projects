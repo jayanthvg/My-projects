{
 "cells": [
  {
   "cell_type": "markdown",
   "metadata": {},
   "source": [
    "### Importing libraries"
   ]
  },
  {
   "cell_type": "code",
   "execution_count": 1,
   "metadata": {},
   "outputs": [],
   "source": [
    "import pandas as pd\n",
    "import requests\n",
    "from bs4 import BeautifulSoup\n",
    "import re"
   ]
  },
  {
   "cell_type": "code",
   "execution_count": 2,
   "metadata": {},
   "outputs": [],
   "source": [
    "main_URL = \"https://www.imsdb.com/\""
   ]
  },
  {
   "cell_type": "markdown",
   "metadata": {},
   "source": [
    "### Getting the content of the page"
   ]
  },
  {
   "cell_type": "code",
   "execution_count": 3,
   "metadata": {},
   "outputs": [],
   "source": [
    "def getAndParseURL(url):\n",
    "    try:\n",
    "        result = requests.get(url, headers={\"Accept-Language\": \"en-US\"})\n",
    "        soup = BeautifulSoup(result.text, 'html5lib')\n",
    "        return(soup)\n",
    "    except:\n",
    "        print(\"URL Not Accessible\")"
   ]
  },
  {
   "cell_type": "code",
   "execution_count": 5,
   "metadata": {},
   "outputs": [],
   "source": [
    "soup = getAndParseURL(main_URL)"
   ]
  },
  {
   "cell_type": "code",
   "execution_count": 6,
   "metadata": {},
   "outputs": [],
   "source": [
    "genre_URL = []\n",
    "for x in soup.findAll(\"table\")[4].findAll(\"a\"):\n",
    "    genre_URL.append('https://www.imsdb.com/genre/' + x.text)"
   ]
  },
  {
   "cell_type": "code",
   "execution_count": 7,
   "metadata": {},
   "outputs": [],
   "source": [
    "movies = []\n",
    "movie_URLs = []\n",
    "for y in genre_URL:\n",
    "    soup = getAndParseURL(y)\n",
    "    for x in soup.findAll(\"td\", valign=\"top\")[2].findAll(\"a\"):\n",
    "        movies.append(x.text)\n",
    "        movie_URLs.append(('https://www.imsdb.com' + x.get(\"href\")).replace(\" \",\"%20\"))"
   ]
  },
  {
   "cell_type": "code",
   "execution_count": 9,
   "metadata": {},
   "outputs": [],
   "source": [
    "script_URLs = []\n",
    "for x in movie_URLs:\n",
    "    soup = getAndParseURL(x)\n",
    "    try:\n",
    "        z = 'https://www.imsdb.com' + soup.find(\"a\",href = re.compile(\"/scripts/\")).get('href')\n",
    "        script_URLs.append(z)\n",
    "    except:\n",
    "        script_URLs.append(\"Not accessible\")"
   ]
  },
  {
   "cell_type": "markdown",
   "metadata": {},
   "source": [
    "### Creating Output Dataframe"
   ]
  },
  {
   "cell_type": "code",
   "execution_count": 10,
   "metadata": {},
   "outputs": [
    {
     "data": {
      "text/html": [
       "<div>\n",
       "<style scoped>\n",
       "    .dataframe tbody tr th:only-of-type {\n",
       "        vertical-align: middle;\n",
       "    }\n",
       "\n",
       "    .dataframe tbody tr th {\n",
       "        vertical-align: top;\n",
       "    }\n",
       "\n",
       "    .dataframe thead th {\n",
       "        text-align: right;\n",
       "    }\n",
       "</style>\n",
       "<table border=\"1\" class=\"dataframe\">\n",
       "  <thead>\n",
       "    <tr style=\"text-align: right;\">\n",
       "      <th></th>\n",
       "      <th>Title_Name</th>\n",
       "      <th>Title_URL</th>\n",
       "      <th>Script_URL</th>\n",
       "    </tr>\n",
       "  </thead>\n",
       "  <tbody>\n",
       "    <tr>\n",
       "      <th>0</th>\n",
       "      <td>15 Minutes</td>\n",
       "      <td>https://www.imsdb.com/Movie%20Scripts/15%20Min...</td>\n",
       "      <td>https://www.imsdb.com/scripts/15-Minutes.html</td>\n",
       "    </tr>\n",
       "    <tr>\n",
       "      <th>1</th>\n",
       "      <td>2012</td>\n",
       "      <td>https://www.imsdb.com/Movie%20Scripts/2012%20S...</td>\n",
       "      <td>https://www.imsdb.com/scripts/2012.html</td>\n",
       "    </tr>\n",
       "    <tr>\n",
       "      <th>2</th>\n",
       "      <td>30 Minutes or Less</td>\n",
       "      <td>https://www.imsdb.com/Movie%20Scripts/30%20Min...</td>\n",
       "      <td>https://www.imsdb.com/scripts/30-Minutes-or-Le...</td>\n",
       "    </tr>\n",
       "    <tr>\n",
       "      <th>3</th>\n",
       "      <td>48 Hrs.</td>\n",
       "      <td>https://www.imsdb.com/Movie%20Scripts/48%20Hrs...</td>\n",
       "      <td>https://www.imsdb.com/scripts/48-Hrs..html</td>\n",
       "    </tr>\n",
       "    <tr>\n",
       "      <th>4</th>\n",
       "      <td>A Most Violent Year</td>\n",
       "      <td>https://www.imsdb.com/Movie%20Scripts/A%20Most...</td>\n",
       "      <td>https://www.imsdb.com/scripts/A-Most-Violent-Y...</td>\n",
       "    </tr>\n",
       "  </tbody>\n",
       "</table>\n",
       "</div>"
      ],
      "text/plain": [
       "            Title_Name                                          Title_URL  \\\n",
       "0           15 Minutes  https://www.imsdb.com/Movie%20Scripts/15%20Min...   \n",
       "1                 2012  https://www.imsdb.com/Movie%20Scripts/2012%20S...   \n",
       "2   30 Minutes or Less  https://www.imsdb.com/Movie%20Scripts/30%20Min...   \n",
       "3              48 Hrs.  https://www.imsdb.com/Movie%20Scripts/48%20Hrs...   \n",
       "4  A Most Violent Year  https://www.imsdb.com/Movie%20Scripts/A%20Most...   \n",
       "\n",
       "                                          Script_URL  \n",
       "0      https://www.imsdb.com/scripts/15-Minutes.html  \n",
       "1            https://www.imsdb.com/scripts/2012.html  \n",
       "2  https://www.imsdb.com/scripts/30-Minutes-or-Le...  \n",
       "3         https://www.imsdb.com/scripts/48-Hrs..html  \n",
       "4  https://www.imsdb.com/scripts/A-Most-Violent-Y...  "
      ]
     },
     "execution_count": 10,
     "metadata": {},
     "output_type": "execute_result"
    }
   ],
   "source": [
    "# add data into pandas df\n",
    "scraped_data = pd.DataFrame({'Title_Name': movies, 'Title_URL': movie_URLs, 'Script_URL': script_URLs })\n",
    "scraped_data.head()"
   ]
  },
  {
   "cell_type": "code",
   "execution_count": 11,
   "metadata": {},
   "outputs": [],
   "source": [
    "scraped_data.to_csv('scraped_data.csv',index=None)"
   ]
  }
 ],
 "metadata": {
  "kernelspec": {
   "display_name": "Python 3",
   "language": "python",
   "name": "python3"
  },
  "language_info": {
   "codemirror_mode": {
    "name": "ipython",
    "version": 3
   },
   "file_extension": ".py",
   "mimetype": "text/x-python",
   "name": "python",
   "nbconvert_exporter": "python",
   "pygments_lexer": "ipython3",
   "version": "3.6.5"
  }
 },
 "nbformat": 4,
 "nbformat_minor": 2
}
